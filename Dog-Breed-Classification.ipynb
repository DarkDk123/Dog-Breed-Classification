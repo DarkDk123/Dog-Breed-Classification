{
 "cells": [
  {
   "cell_type": "markdown",
   "metadata": {},
   "source": [
    "# 🐶 Dog Breeds Classification Using Tensorflow\n",
    "\n",
    "Have you ever seen a dog and wondered what breed it is?\n",
    "\n",
    "I have. And then someone says, *\"it's a BullDog\"* and you think, how did they know that?\n",
    "\n",
    "\n",
    "<img width=30% src=\"https://media1.tenor.com/m/InjqAJQgZngAAAAd/star-wars-get-ready-for-battle-boys.gif\">\n",
    "\n",
    "In this project we're going to be using machine learning to help us identify different breeds of dogs.\n",
    "\n",
    "To do this, we'll be using data from the [Kaggle dog breed identification competition](https://www.kaggle.com/c/dog-breed-identification/overview). It consists of a collection of **10,000+ labelled images** of **120 different dog breeds.**\n",
    "\n",
    "This kind of problem is called **multi-class image classification**. It's multi-class because we're trying to classify mutliple different breeds of dog.\n",
    "\n",
    "Multi-class image classification is an important problem because it's the same kind of technology Tesla uses in their self-driving cars or Airbnb uses in automatically adding information to their listings.\n",
    "\n",
    "Since the most important step in a deep learning problem is **getting the data ready** *(turning it into numbers)*, that's what we're going to start with.\n",
    "\n",
    "---\n",
    "### **We're going to go through the following TensorFlow/Deep Learning workflow:** 🚀\n",
    "\n",
    "#### **1. Problem Definition**\n",
    "\n",
    "We need to identify a Dog's breed based on it's image, classifying a dog into almost 120 different classes of breeds.\n",
    "\n",
    "#### **2. Get data ready for Training**\n",
    "\n",
    "- **A. Downloading and storing data (download from Kaggle, store, import):**\\\n",
    "- **B. Prepare the data *(preprocessing, the 3 sets i.e. train, test, validation And  Separating X & y).***\n",
    "\n",
    "#### **3. Choose and fit/train a model.**\n",
    "\n",
    "Based on the type of problem, either using a pretrained (TensorFlow Hub or other) model, or training one from scratch.\\\n",
    "([TensorFlow Hub](https://www.tensorflow.org/hub), `tf.keras.applications`, [TensorBoard](https://www.tensorflow.org/tensorboard), [EarlyStopping](https://www.tensorflow.org/api_docs/python/tf/keras/callbacks/EarlyStopping))\n",
    "\n",
    "#### **4. Evaluating a model.**\n",
    "\n",
    "Making predictions on **validation set**, comparing them with the ground truth labels, and according moving further.\n",
    "\n",
    "#### **5. Improve the model through experimentation.**\n",
    "\n",
    "Start with few 1000 images, make sure it works then increase the number of images accordingly.\n",
    "\n",
    "#### **6. Save, sharing and reloading your model**\n",
    "Saving the model once **reasonable results** are achieved.\n",
    "\n",
    "---\n",
    "\n",
    "## Getting our workspace ready\n",
    "\n",
    "Before we get started, since we'll be using **TensorFlow 2.x** and **TensorFlow Hub (TensorFlow Hub)**. So make sure all the packages are installed as in [`requirements.txt`](./requirements.txt)."
   ]
  }
 ],
 "metadata": {
  "language_info": {
   "name": "python"
  }
 },
 "nbformat": 4,
 "nbformat_minor": 2
}

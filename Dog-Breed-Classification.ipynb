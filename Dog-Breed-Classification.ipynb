{
  "nbformat": 4,
  "nbformat_minor": 0,
  "metadata": {
    "colab": {
      "provenance": [],
      "mount_file_id": "18xd2a853-571CVfHqdGv-08-CeSzOAE2",
      "authorship_tag": "ABX9TyPYebZ2uFDaqKu9bAkf6Twf",
      "include_colab_link": true
    },
    "kernelspec": {
      "name": "python3",
      "display_name": "Python 3"
    },
    "language_info": {
      "name": "python"
    }
  },
  "cells": [
    {
      "cell_type": "markdown",
      "metadata": {
        "id": "view-in-github",
        "colab_type": "text"
      },
      "source": [
        "<a href=\"https://colab.research.google.com/github/DarkDk123/Dog-Breed-Classification/blob/main/Dog-Breed-Classification.ipynb\" target=\"_parent\"><img src=\"https://colab.research.google.com/assets/colab-badge.svg\" alt=\"Open In Colab\"/></a>"
      ]
    },
    {
      "cell_type": "markdown",
      "source": [
        "# 🐶 Dog Breeds Classification Using Tensorflow\n",
        "\n",
        "Have you ever seen a dog and wondered what breed it is?\n",
        "\n",
        "I have. And then someone says, *\"it's a BullDog\"* and you think, how did they know that?\n",
        "\n",
        "\n",
        "<img width=30% src=\"https://media1.tenor.com/m/InjqAJQgZngAAAAd/star-wars-get-ready-for-battle-boys.gif\">\n",
        "\n",
        "In this project we're going to be using machine learning to help us identify different breeds of dogs.\n",
        "\n",
        "To do this, we'll be using data from the [Kaggle dog breed identification competition](https://www.kaggle.com/c/dog-breed-identification/overview). It consists of a collection of **10,000+ labelled images** of **120 different dog breeds.**\n",
        "\n",
        "This kind of problem is called **multi-class image classification**. It's multi-class because we're trying to classify mutliple different breeds of dog.\n",
        "\n",
        "Multi-class image classification is an important problem because it's the same kind of technology Tesla uses in their self-driving cars or Airbnb uses in automatically adding information to their listings.\n",
        "\n",
        "Since the most important step in a deep learning problem is **getting the data ready** *(turning it into numbers)*, that's what we're going to start with.\n",
        "\n",
        "---\n",
        "### **We're going to go through the following TensorFlow/Deep Learning workflow:** 🚀\n",
        "\n",
        "#### **1. Problem Definition**\n",
        "\n",
        "We need to identify a Dog's breed based on it's image, classifying a dog into almost 120 different classes of breeds.\n",
        "\n",
        "#### **2. Get data ready for Training**\n",
        "\n",
        "- **A. Downloading and storing data (download from Kaggle, store, import):**\\\n",
        "- **B. Prepare the data *(preprocessing, the 3 sets i.e. train, test, validation And  Separating X & y).***\n",
        "\n",
        "#### **3. Choose and fit/train a model.**\n",
        "\n",
        "Based on the type of problem, either using a pretrained (TensorFlow Hub or other) model, or training one from scratch.\\\n",
        "([TensorFlow Hub](https://www.tensorflow.org/hub), `tf.keras.applications`, [TensorBoard](https://www.tensorflow.org/tensorboard), [EarlyStopping](https://www.tensorflow.org/api_docs/python/tf/keras/callbacks/EarlyStopping))\n",
        "\n",
        "#### **4. Evaluating a model.**\n",
        "\n",
        "Making predictions on **validation set**, comparing them with the ground truth labels, and according moving further.\n",
        "\n",
        "#### **5. Improve the model through experimentation.**\n",
        "\n",
        "Start with few 1000 images, make sure it works then increase the number of images accordingly.\n",
        "\n",
        "#### **6. Save, sharing and reloading your model**\n",
        "Saving the model once **reasonable results** are achieved.\n",
        "\n",
        "---\n",
        "\n",
        "### Getting our workspace ready\n",
        "\n",
        "Before we get started, since we'll be using **TensorFlow 2.x** and **TensorFlow Hub (TensorFlow Hub)**. So make sure all the packages are installed as in [`requirements.txt`](./requirements.txt).\n",
        "\n",
        "As we'll require a **GPU** for this intensive training, please use a **GPU** or Google Colab for free resources.\\\n",
        "All of the packages come pre-installed with it.\n",
        "\n",
        "\n",
        "Now, let's start by downloading the data."
      ],
      "metadata": {
        "id": "CuNWUISO8Eho"
      }
    },
    {
      "cell_type": "markdown",
      "source": [
        "### **Getting data ready for Training**\n",
        "\n",
        "##### **Downloading & Storing the data.**\n",
        "\n",
        "Since much of machine learning is getting your data ready to be used with a machine learning model, we'll take extra care getting it setup.\n",
        "\n",
        "There are a few ways we could do this. Many of them are detailed in the [Google Colab notebook on I/O (input and output)](https://colab.research.google.com/notebooks/io.ipynb).\n",
        "\n",
        "And because the data we're using is hosted on Kaggle, we could even use the [Kaggle API](https://www.kaggle.com/docs/api).\n",
        "\n",
        "This is great but what if the data you want to use wasn't on Kaggle?\n",
        "\n",
        "**[Optional for colab]**\\\n",
        "One method is to **upload it to your Google Drive**, mount your drive in this notebook and import the file."
      ],
      "metadata": {
        "id": "u3P-0fitQVYl"
      }
    },
    {
      "cell_type": "code",
      "source": [
        "# Running this cell will provide you with a token to link your drive to this notebook\n",
        "from google.colab import drive\n",
        "\n",
        "drive.mount(\"/content/drive\")"
      ],
      "metadata": {
        "colab": {
          "base_uri": "https://localhost:8080/"
        },
        "id": "Qsbm4B7UQaXP",
        "outputId": "7ee5f3df-06f3-42f0-9484-65d5c6010825"
      },
      "execution_count": 19,
      "outputs": [
        {
          "output_type": "stream",
          "name": "stdout",
          "text": [
            "Drive already mounted at /content/drive; to attempt to forcibly remount, call drive.mount(\"/content/drive\", force_remount=True).\n"
          ]
        }
      ]
    },
    {
      "cell_type": "markdown",
      "source": [
        "Following the prompts from the cell above, if everything worked, you should see a \"drive\" folder available under the Files tab.\n",
        "\n",
        "This means we'll be able to access files in our Google Drive right in this notebook.\n",
        "\n",
        "For this project, I've [downloaded the data from Kaggle](https://www.kaggle.com/c/dog-breed-identification/data) and uploaded it to my Google Drive as a .zip file under the folder \"Data\".\n",
        "\n",
        "Or alternatively you can use Kaggle API ***(token required!)***\n",
        "\n",
        "```python\n",
        "mv \"kaggle.json\" \"/root/.kaggle/\" # move kaggle key to path\n",
        "\n",
        "kaggle competitions download -c dog-breed-identification # download using API\n",
        "```\n",
        "\n",
        "Finally, to access it, we'll have to unzip it.\\\n",
        "***(Or unzip it locally)***\n",
        "\n",
        "```python\n",
        "# Use the '-d' parameter as the destination for where the files should go\n",
        "!unzip \"drive/My Drive/Data/dog-breed-identification.zip\" -d \"drive/My Drive/Data/\"\n",
        "```\n",
        "\n",
        "*Note: Paths can differ.*\n",
        "\n",
        "Now All of our data should be in `/data` folder."
      ],
      "metadata": {
        "id": "Q3C-k5DhQxci"
      }
    }
  ]
}